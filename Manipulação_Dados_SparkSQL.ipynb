{
  "nbformat": 4,
  "nbformat_minor": 0,
  "metadata": {
    "colab": {
      "provenance": [],
      "authorship_tag": "ABX9TyMQbRjPdO6zYxgztyMMlvhP",
      "include_colab_link": true
    },
    "kernelspec": {
      "name": "python3",
      "display_name": "Python 3"
    },
    "language_info": {
      "name": "python"
    }
  },
  "cells": [
    {
      "cell_type": "markdown",
      "metadata": {
        "id": "view-in-github",
        "colab_type": "text"
      },
      "source": [
        "<a href=\"https://colab.research.google.com/github/MBrandao07/Spark_SQL/blob/main/Manipula%C3%A7%C3%A3o_Dados_SparkSQL.ipynb\" target=\"_parent\"><img src=\"https://colab.research.google.com/assets/colab-badge.svg\" alt=\"Open In Colab\"/></a>"
      ]
    },
    {
      "cell_type": "markdown",
      "source": [
        "## **Introdução**\n",
        "\n",
        "O objetivo deste projeto é mostrar como o Spark e o Spark SQL facilitam o trabalho com dados.\n",
        "\n",
        "Vou apresentar como essas ferramentas ajudam a manipular grandes volumes de informações e a criar novas variáveis de forma rápida e prática.\n",
        "\n",
        "A ideia é destacar como o Spark combina a potência de processamento com a facilidade do SQL, tornando o processo de análise muito mais eficiente."
      ],
      "metadata": {
        "id": "_1qQup4UK9YO"
      }
    },
    {
      "cell_type": "code",
      "execution_count": 1,
      "metadata": {
        "colab": {
          "base_uri": "https://localhost:8080/"
        },
        "id": "n_xJ9rs9zX2p",
        "outputId": "10f5a653-a469-46dd-a877-446dfa70698e"
      },
      "outputs": [
        {
          "output_type": "stream",
          "name": "stdout",
          "text": [
            "Requirement already satisfied: pyspark in /usr/local/lib/python3.11/dist-packages (3.5.1)\n",
            "Requirement already satisfied: py4j==0.10.9.7 in /usr/local/lib/python3.11/dist-packages (from pyspark) (0.10.9.7)\n"
          ]
        }
      ],
      "source": [
        "# instalando o pacote do pyspark\n",
        "!pip install pyspark"
      ]
    },
    {
      "cell_type": "code",
      "source": [
        "import pandas as pd\n",
        "import numpy as np"
      ],
      "metadata": {
        "id": "5oolOn5hzrK3"
      },
      "execution_count": 2,
      "outputs": []
    },
    {
      "cell_type": "code",
      "source": [
        "from google.colab import drive\n",
        "drive.mount('/content/gdrive')"
      ],
      "metadata": {
        "colab": {
          "base_uri": "https://localhost:8080/"
        },
        "id": "W6JZAgupzwYx",
        "outputId": "d0011f0d-9cc9-49c7-9c6c-7b6a707f1979"
      },
      "execution_count": 3,
      "outputs": [
        {
          "output_type": "stream",
          "name": "stdout",
          "text": [
            "Mounted at /content/gdrive\n"
          ]
        }
      ]
    },
    {
      "cell_type": "code",
      "source": [
        "# criando nossa a sessão com o SparkSession\n",
        "from pyspark.sql import SparkSession\n",
        "\n",
        "spark = SparkSession \\\n",
        "    .builder \\\n",
        "    .appName(\"Manipulação de dados no Pyspark\") \\\n",
        "    .config('spark.ui.port', '4050') \\\n",
        "    .getOrCreate()"
      ],
      "metadata": {
        "id": "rTaLihH4zy-Y"
      },
      "execution_count": 4,
      "outputs": []
    },
    {
      "cell_type": "code",
      "source": [
        "# importando a base de dados\n",
        "df = spark.read.parquet('/content/dados_veiculos_sample')"
      ],
      "metadata": {
        "id": "trBbUSCK0Elq"
      },
      "execution_count": 5,
      "outputs": []
    },
    {
      "cell_type": "code",
      "source": [
        "df.show(10, truncate=False)"
      ],
      "metadata": {
        "colab": {
          "base_uri": "https://localhost:8080/"
        },
        "id": "E-8IzR8n0gAh",
        "outputId": "df1d9dc2-00b6-4dc8-ed4b-98e2e1f36a02"
      },
      "execution_count": 9,
      "outputs": [
        {
          "output_type": "stream",
          "name": "stdout",
          "text": [
            "+------+---------------------------------+-----------+----+-----------------+-----------------+---+-------------------+-------------------+-------+-----------------+\n",
            "|marca |modelo                           |engine_size|ano |valor_tabela_fipe|flag_veiculo_novo|uf |data_cadastro      |cor                |placa  |__index_level_0__|\n",
            "+------+---------------------------------+-----------+----+-----------------+-----------------+---+-------------------+-------------------+-------+-----------------+\n",
            "|Acura |NSX 3.0                          |3.0        |1995|43779.0          |False            |MT |2005-09-02 14:40:54|Orquídea média     |4RR2KR0|0                |\n",
            "|Acura |NSX 3.0                          |3.0        |1994|42244.0          |False            |MT |1998-11-01 11:58:46|Azul aço           |5C6NIZ1|1                |\n",
            "|Acura |NSX 3.0                          |3.0        |1992|39028.0          |False            |AP |2014-07-03 20:32:21|Ametista           |3PRJCPK|3                |\n",
            "|Acura |Legend 3.2/3.5                   |3.2        |1998|27132.0          |False            |AP |2018-01-07 20:03:26|Caramelo           |2FXXZ1W|5                |\n",
            "|Acura |Legend 3.2/3.5                   |3.2        |1995|20393.0          |False            |MT |2016-03-16 18:24:33|Lavanda avermelhada|2PTOYFY|8                |\n",
            "|Acura |Legend 3.2/3.5                   |3.2        |1993|15156.0          |False            |PA |2021-02-24 09:12:55|Cinza médio        |91M9ITK|10               |\n",
            "|Acura |Legend 3.2/3.5                   |3.2        |1992|14440.0          |False            |MA |1999-09-29 15:15:47|Azul ardósia claro |CUB4FG8|11               |\n",
            "|Acura |Integra GS 1.8                   |1.8        |1991|10785.0          |False            |RR |2007-08-24 18:07:24|Marrom amarelado   |RVMZ6AR|14               |\n",
            "|Agrale|MARRUÁ AM 50 2.8 140cv TDI Diesel|2.8        |2010|64744.0          |False            |CE |2022-08-09 02:19:54|Verde primavera    |0IY5RU3|20               |\n",
            "|Agrale|MARRUÁ AM 50 2.8 140cv TDI Diesel|2.8        |2008|55772.0          |False            |SP |2014-01-27 17:42:24|Urucum             |AVIM91O|22               |\n",
            "+------+---------------------------------+-----------+----+-----------------+-----------------+---+-------------------+-------------------+-------+-----------------+\n",
            "only showing top 10 rows\n",
            "\n"
          ]
        }
      ]
    },
    {
      "cell_type": "code",
      "source": [
        "# verificando o schema do df\n",
        "df.printSchema()"
      ],
      "metadata": {
        "colab": {
          "base_uri": "https://localhost:8080/"
        },
        "id": "eIOkTf0D0kT-",
        "outputId": "6c569351-da8c-41ac-bf2e-7af50855a35b"
      },
      "execution_count": 10,
      "outputs": [
        {
          "output_type": "stream",
          "name": "stdout",
          "text": [
            "root\n",
            " |-- marca: string (nullable = true)\n",
            " |-- modelo: string (nullable = true)\n",
            " |-- engine_size: double (nullable = true)\n",
            " |-- ano: long (nullable = true)\n",
            " |-- valor_tabela_fipe: double (nullable = true)\n",
            " |-- flag_veiculo_novo: string (nullable = true)\n",
            " |-- uf: string (nullable = true)\n",
            " |-- data_cadastro: timestamp_ntz (nullable = true)\n",
            " |-- cor: string (nullable = true)\n",
            " |-- placa: string (nullable = true)\n",
            " |-- __index_level_0__: long (nullable = true)\n",
            "\n"
          ]
        }
      ]
    },
    {
      "cell_type": "code",
      "source": [
        "# apagando a coluna \"__index_level_0__\"\n",
        "df = df.drop('__index_level_0__')"
      ],
      "metadata": {
        "id": "p27qiBVE6w16"
      },
      "execution_count": 31,
      "outputs": []
    },
    {
      "cell_type": "code",
      "source": [
        "# criando um data frame com os dados de algumas colunas\n",
        "df_marca = df.select('marca', 'modelo', 'ano', 'valor_tabela_fipe')"
      ],
      "metadata": {
        "id": "jCoalwzy0oY3"
      },
      "execution_count": 32,
      "outputs": []
    },
    {
      "cell_type": "code",
      "source": [
        "df_marca.show(10, truncate=False)"
      ],
      "metadata": {
        "colab": {
          "base_uri": "https://localhost:8080/"
        },
        "id": "aD8kXNCq1Jb0",
        "outputId": "8e8a952f-b761-4929-cb7f-03f478ac733e"
      },
      "execution_count": 33,
      "outputs": [
        {
          "output_type": "stream",
          "name": "stdout",
          "text": [
            "+------+---------------------------------+----+-----------------+\n",
            "|marca |modelo                           |ano |valor_tabela_fipe|\n",
            "+------+---------------------------------+----+-----------------+\n",
            "|Acura |NSX 3.0                          |1995|43779.0          |\n",
            "|Acura |NSX 3.0                          |1994|42244.0          |\n",
            "|Acura |NSX 3.0                          |1992|39028.0          |\n",
            "|Acura |Legend 3.2/3.5                   |1998|27132.0          |\n",
            "|Acura |Legend 3.2/3.5                   |1995|20393.0          |\n",
            "|Acura |Legend 3.2/3.5                   |1993|15156.0          |\n",
            "|Acura |Legend 3.2/3.5                   |1992|14440.0          |\n",
            "|Acura |Integra GS 1.8                   |1991|10785.0          |\n",
            "|Agrale|MARRUÁ AM 50 2.8 140cv TDI Diesel|2010|64744.0          |\n",
            "|Agrale|MARRUÁ AM 50 2.8 140cv TDI Diesel|2008|55772.0          |\n",
            "+------+---------------------------------+----+-----------------+\n",
            "only showing top 10 rows\n",
            "\n"
          ]
        }
      ]
    },
    {
      "cell_type": "code",
      "source": [
        "# importando as libs para manipulação das colunas\n",
        "from pyspark.sql.functions import col, lit, pow, round, asc, desc"
      ],
      "metadata": {
        "id": "7leCxT4-1MTt"
      },
      "execution_count": 34,
      "outputs": []
    },
    {
      "cell_type": "markdown",
      "source": [
        "#### Considerando que a coluna \"valor_tabela_fipe\" é o valor do carro no ano em que foi lançado e que o carro perde 3% do valor por ano, então vamos calcular qual a porcentagem de perde e o valor final considerando o ano atual (2025)"
      ],
      "metadata": {
        "id": "uEAOiyeh2Q3Y"
      }
    },
    {
      "cell_type": "code",
      "source": [
        "# criando a coluna de anos de uso\n",
        "ano_atual = 2025\n",
        "df_marca = df_marca.withColumn(\"anos_uso\", lit(ano_atual) - col(\"ano\"))\n",
        "\n",
        "# calculando o percentual de depreciação acumulada\n",
        "df_marca = df_marca.withColumn(\"percentual_depreciacao\", 1 - pow(1 - 0.03, col(\"anos_uso\")))\n",
        "\n",
        "# aplicando a depreciação no valor original\n",
        "df_marca = df_marca.withColumn(\"valor_2025\", col(\"valor_tabela_fipe\") * (1 - col(\"percentual_depreciacao\")))\n",
        "\n",
        "# (Opcional) Arredondar o valor final\n",
        "from pyspark.sql.functions import round\n",
        "df_marca = df_marca.withColumn(\"valor_2025\", round(col(\"valor_2025\"), 2))\n",
        "df_marca = df_marca.withColumn(\"percentual_depreciacao\", round(col(\"percentual_depreciacao\") * 100, 2))"
      ],
      "metadata": {
        "id": "h_SNhomA1Ula"
      },
      "execution_count": 35,
      "outputs": []
    },
    {
      "cell_type": "code",
      "source": [
        "df_marca.show(10)"
      ],
      "metadata": {
        "colab": {
          "base_uri": "https://localhost:8080/"
        },
        "id": "ujV-1ndt3dUZ",
        "outputId": "39edb73e-5fc8-434b-9e32-b70a7fe1e549"
      },
      "execution_count": 36,
      "outputs": [
        {
          "output_type": "stream",
          "name": "stdout",
          "text": [
            "+------+--------------------+----+-----------------+--------+----------------------+----------+\n",
            "| marca|              modelo| ano|valor_tabela_fipe|anos_uso|percentual_depreciacao|valor_2025|\n",
            "+------+--------------------+----+-----------------+--------+----------------------+----------+\n",
            "| Acura|             NSX 3.0|1995|          43779.0|      30|                  59.9|  17555.69|\n",
            "| Acura|             NSX 3.0|1994|          42244.0|      31|                  61.1|  16431.94|\n",
            "| Acura|             NSX 3.0|1992|          39028.0|      33|                  63.4|  14283.79|\n",
            "| Acura|      Legend 3.2/3.5|1998|          27132.0|      27|                 56.06|  11921.16|\n",
            "| Acura|      Legend 3.2/3.5|1995|          20393.0|      30|                  59.9|   8177.74|\n",
            "| Acura|      Legend 3.2/3.5|1993|          15156.0|      32|                 62.27|   5718.47|\n",
            "| Acura|      Legend 3.2/3.5|1992|          14440.0|      33|                  63.4|   5284.87|\n",
            "| Acura|      Integra GS 1.8|1991|          10785.0|      34|                  64.5|   3828.77|\n",
            "|Agrale|MARRUÁ AM 50 2.8 ...|2010|          64744.0|      15|                 36.67|  40999.21|\n",
            "|Agrale|MARRUÁ AM 50 2.8 ...|2008|          55772.0|      17|                 40.42|  33230.41|\n",
            "+------+--------------------+----+-----------------+--------+----------------------+----------+\n",
            "only showing top 10 rows\n",
            "\n"
          ]
        }
      ]
    },
    {
      "cell_type": "code",
      "source": [
        "df_marca.orderBy(asc('valor_2025')).show(10)"
      ],
      "metadata": {
        "colab": {
          "base_uri": "https://localhost:8080/"
        },
        "id": "vykd5yzA3eI3",
        "outputId": "7f3fdde7-cedd-4511-90de-e572a4477ddb"
      },
      "execution_count": 37,
      "outputs": [
        {
          "output_type": "stream",
          "name": "stdout",
          "text": [
            "+-----+--------------------+----+-----------------+--------+----------------------+----------+\n",
            "|marca|              modelo| ano|valor_tabela_fipe|anos_uso|percentual_depreciacao|valor_2025|\n",
            "+-----+--------------------+----+-----------------+--------+----------------------+----------+\n",
            "| Lada|           Laika 1.5|1991|           1831.0|      34|                  64.5|    650.02|\n",
            "| Lada|           Laika 1.5|1991|           1845.0|      34|                  64.5|    654.99|\n",
            "| Lada|           Laika 1.5|1991|           1884.0|      34|                  64.5|    668.84|\n",
            "| Lada|           Laika 1.5|1991|           1887.0|      34|                  64.5|     669.9|\n",
            "| Lada|           Laika 1.5|1991|           1896.0|      34|                  64.5|     673.1|\n",
            "| Ford|Del Rey L 1.8 / 1...|1985|           2297.0|      40|                 70.43|    679.25|\n",
            "| Lada|           Laika 1.5|1991|           1921.0|      34|                  64.5|    681.97|\n",
            "| Ford|Del Rey L 1.8 / 1...|1985|           2315.0|      40|                 70.43|    684.57|\n",
            "| Ford|Del Rey L 1.8 / 1...|1985|           2333.0|      40|                 70.43|     689.9|\n",
            "| Lada|           Laika 1.5|1991|           1955.0|      34|                  64.5|    694.04|\n",
            "+-----+--------------------+----+-----------------+--------+----------------------+----------+\n",
            "only showing top 10 rows\n",
            "\n"
          ]
        }
      ]
    },
    {
      "cell_type": "code",
      "source": [
        "df_marca.orderBy(desc('valor_2025')).show(10, truncate=False)"
      ],
      "metadata": {
        "colab": {
          "base_uri": "https://localhost:8080/"
        },
        "id": "7vCQ-N7O4S8I",
        "outputId": "912098b1-66c8-4e03-c253-f9c8566b6e5a"
      },
      "execution_count": 38,
      "outputs": [
        {
          "output_type": "stream",
          "name": "stdout",
          "text": [
            "+-----------+--------------------------------------+----+-----------------+--------+----------------------+----------+\n",
            "|marca      |modelo                                |ano |valor_tabela_fipe|anos_uso|percentual_depreciacao|valor_2025|\n",
            "+-----------+--------------------------------------+----+-----------------+--------+----------------------+----------+\n",
            "|Ferrari    |SF 90 SPIDER 4.0 V8 Bi-Turbo (Híbrido)|2022|8033191.0        |3       |8.73                  |7331676.53|\n",
            "|Rolls-Royce|Cullinan Black Badge 6.7 V12 Aut.     |2022|6612510.0        |3       |8.73                  |6035059.34|\n",
            "|Rolls-Royce|Cullinan Black Badge 6.7 V12 Aut.     |2021|6056916.0        |4       |11.47                 |5362144.19|\n",
            "|Rolls-Royce|Phantom 6.7 V12 Aut.                  |2019|5997983.0        |6       |16.7                  |4996151.93|\n",
            "|Ferrari    |F8 Spider 3.9 V8 Bi-Turbo 720cv       |2020|4429998.0        |5       |14.13                 |3804190.02|\n",
            "|Ferrari    |F8 Spider 3.9 V8 Bi-Turbo 720cv       |2020|4423353.0        |5       |14.13                 |3798483.73|\n",
            "|Mclaren    |720S Coupe 4.0 Bi-Turbo V8 2p         |2021|4004239.0        |4       |11.47                 |3544924.0 |\n",
            "|Mclaren    |720S Coupe 4.0 Bi-Turbo V8 2p         |2021|3998232.0        |4       |11.47                 |3539606.04|\n",
            "|Ferrari    |488 Pista Spider 3.9 V8 720cv         |2020|4117401.0        |5       |14.13                 |3535752.34|\n",
            "|Mclaren    |720S Coupe 4.0 Bi-Turbo V8 2p         |2021|3979438.0        |4       |11.47                 |3522967.85|\n",
            "+-----------+--------------------------------------+----+-----------------+--------+----------------------+----------+\n",
            "only showing top 10 rows\n",
            "\n"
          ]
        }
      ]
    },
    {
      "cell_type": "markdown",
      "source": [
        "**Considerando os valores em 2025**\n",
        "\n",
        "Podemos verificar que o carro mais barato seria o Laika 1.5 da marca Lada, anunciado por cerca de $ 650.\n",
        "\n",
        "Já o mais caro seria o SF 90 SPIDER 4.0 V8 Bi-Turbo (Híbrido) da Ferrari, custando cerca de $ 7331676."
      ],
      "metadata": {
        "id": "11f2DGBt4Bdp"
      }
    },
    {
      "cell_type": "markdown",
      "source": [
        "#### **Verificando os carros mais caros por marca**"
      ],
      "metadata": {
        "id": "X2v0J-j25IW5"
      }
    },
    {
      "cell_type": "code",
      "source": [
        "from pyspark.sql.window import Window\n",
        "from pyspark.sql.functions import row_number\n",
        "\n",
        "# separando por marca e ordenando pelo mais caro\n",
        "janela = Window.partitionBy(\"marca\").orderBy(desc(\"valor_tabela_fipe\"))\n",
        "\n",
        "# criando a coluna de rank\n",
        "df_ranked = df.withColumn(\"rank\", row_number().over(janela))\n",
        "\n",
        "# filtrando apenas o carro mais caro de cada marca\n",
        "df_mais_caros = df_ranked.filter(col(\"rank\") == 1).orderBy(desc(\"valor_tabela_fipe\"))"
      ],
      "metadata": {
        "id": "7nNQnKDS3zk5"
      },
      "execution_count": 45,
      "outputs": []
    },
    {
      "cell_type": "code",
      "source": [
        "df_mais_caros.show(truncate=False)"
      ],
      "metadata": {
        "colab": {
          "base_uri": "https://localhost:8080/"
        },
        "id": "V0pVv-q5556z",
        "outputId": "39cf6e77-e525-4ac3-f14c-e580747cc241"
      },
      "execution_count": 46,
      "outputs": [
        {
          "output_type": "stream",
          "name": "stdout",
          "text": [
            "+--------------+----------------------------------------+-----------+----+-----------------+-----------------+---+-------------------+-----------------------+-------+----+\n",
            "|marca         |modelo                                  |engine_size|ano |valor_tabela_fipe|flag_veiculo_novo|uf |data_cadastro      |cor                    |placa  |rank|\n",
            "+--------------+----------------------------------------+-----------+----+-----------------+-----------------+---+-------------------+-----------------------+-------+----+\n",
            "|Ferrari       |SF 90 SPIDER 4.0 V8 Bi-Turbo (Híbrido)  |4.0        |2022|8033191.0        |False            |PE |2023-02-21 22:18:03|Alizarina              |CX9T328|1   |\n",
            "|Rolls-Royce   |Cullinan Black Badge 6.7 V12 Aut.       |6.7        |2022|6612510.0        |False            |RO |2023-01-11 15:29:10|Ciano claro            |JF1L924|1   |\n",
            "|Mclaren       |720S Coupe 4.0 Bi-Turbo V8 2p           |4.0        |2021|4004239.0        |False            |GO |2022-10-23 08:01:11|Urucum                 |VUBKOZB|1   |\n",
            "|Porsche       |911 GT2 RS 3.8 V6 700cv (991)           |3.8        |2018|3571135.0        |False            |AM |2022-04-27 14:01:06|Jasmine                |MC5YFJ4|1   |\n",
            "|Mercedes-Benz |GT R AMG 4.0 V8 Bi-Turbo 585cv          |4.0        |2019|2009249.0        |False            |PB |2021-09-12 15:46:51|Carmesim               |R9FNYNW|1   |\n",
            "|ASTON MARTIN  |Vanquish V12 6.0 565cv                  |6.0        |2016|1952999.0        |False            |DF |2021-06-06 05:05:34|Azul claro             |WWJDIOF|1   |\n",
            "|Maserati      |Levante Trofeo 3.8 V8 590cv Aut.        |3.8        |2019|1890000.0        |False            |RS |2020-01-25 03:30:31|Rosa amoroso           |0FCOC50|1   |\n",
            "|Audi          |R8 5.2 V10 Quattro R-tronic/S-tronic    |5.2        |2021|1701120.0        |False            |CE |2022-11-06 14:26:56|Marrom sela            |006UR84|1   |\n",
            "|Land Rover    |Range R. SV Autob. Super. LWB 5.0 V8    |5.0        |2021|1405166.0        |False            |MG |2022-05-10 18:09:52|Turquesa média         |GPHGXCL|1   |\n",
            "|BMW           |M8 Gran Coupé Competition 4.4 V8 32V    |4.4        |2022|1270339.0        |False            |BA |2023-01-23 06:49:51|Branco antigo          |4GIUR6I|1   |\n",
            "|Nissan        |GT-R 3.8 V6 BiTurbo Aut.                |3.8        |2019|949421.0         |False            |RS |2020-12-16 06:24:50|Ciano                  |O0FDGYD|1   |\n",
            "|Lexus         |LS 500h 3.5 V6 24v Aut.(Hybrid)         |3.5        |2020|896982.0         |False            |DF |2022-08-29 19:14:46|Mamão batido           |J2OFFCA|1   |\n",
            "|GM - Chevrolet|Corvette 5.7/ 6.0, 6.2 Conv./Stingray   |5.7        |2015|775657.0         |False            |AP |2016-06-02 14:44:30|Zinco                  |DH4IJVZ|1   |\n",
            "|Jaguar        |F-Type SVR AWD Supercharged Coupe 5.0 V8|5.0        |2020|707815.0         |False            |ES |2021-10-24 09:44:42|Marfim                 |UIR85Y5|1   |\n",
            "|Ford          |Mustang MACH 1 5.0 V8                   |5.0        |2021|552864.0         |False            |DF |2022-09-09 14:29:15|Amêndoa                |5IN796O|1   |\n",
            "|RAM           |2500 LARAM. 6.7 NIGHT ED. TB CD 4x4 Die.|6.7        |2021|516056.0         |False            |AP |2022-03-15 08:13:43|Amarelo brasilis       |MEAE7D5|1   |\n",
            "|AM Gen        |Hummer Wagon 6.5 4x4 Diesel TB          |6.5        |2000|499632.0         |False            |TO |2014-02-08 00:18:35|Azul ardósia           |1K3C6AF|1   |\n",
            "|Volvo         |XC 90 T-8 EXCELLENCE 2.0 (Híbrido)      |2.0        |2018|432070.0         |False            |DF |2019-06-15 05:26:42|Azul turquesa brilhante|WVAMGAY|1   |\n",
            "|Jeep          |Wrangler RUBICON 2.0 Turbo 4x4 4p Aut.  |2.0        |2020|430020.0         |False            |TO |2021-09-07 14:08:31|Azul aço               |CGVMPVG|1   |\n",
            "|Agrale        |MARRUÁ AM 200 Microbus 2.8 TDI Diesel   |2.8        |2021|395125.0         |False            |MT |2023-03-08 23:15:13|Iris                   |SVPLC77|1   |\n",
            "+--------------+----------------------------------------+-----------+----+-----------------+-----------------+---+-------------------+-----------------------+-------+----+\n",
            "only showing top 20 rows\n",
            "\n"
          ]
        }
      ]
    },
    {
      "cell_type": "markdown",
      "source": [
        "Podemos observar que as 3 marcas que possuem carros mais caros são:\n",
        "\n",
        "1- Ferrari <br>\n",
        "2- Rolls-Royce <br>\n",
        "3- Mclaren <br>\n",
        "\n",
        "Com carros de mais de 4 milhões de dólares."
      ],
      "metadata": {
        "id": "KUz_G55R7wt6"
      }
    },
    {
      "cell_type": "markdown",
      "source": [
        "#### Filtando somente os carros de mais de 1M"
      ],
      "metadata": {
        "id": "bscJ9RPm8K8h"
      }
    },
    {
      "cell_type": "code",
      "source": [
        "df.filter(col('valor_tabela_fipe') >= 1000000).orderBy(desc('valor_tabela_fipe')).show()"
      ],
      "metadata": {
        "colab": {
          "base_uri": "https://localhost:8080/"
        },
        "id": "AAFLAhoC58zN",
        "outputId": "ac0860ad-f56f-4765-c7f5-76d4d4612fe9"
      },
      "execution_count": 48,
      "outputs": [
        {
          "output_type": "stream",
          "name": "stdout",
          "text": [
            "+-----------+--------------------+-----------+----+-----------------+-----------------+---+-------------------+--------------+-------+\n",
            "|      marca|              modelo|engine_size| ano|valor_tabela_fipe|flag_veiculo_novo| uf|      data_cadastro|           cor|  placa|\n",
            "+-----------+--------------------+-----------+----+-----------------+-----------------+---+-------------------+--------------+-------+\n",
            "|    Ferrari|SF 90 SPIDER 4.0 ...|        4.0|2022|        8033191.0|            False| PE|2023-02-21 22:18:03|     Alizarina|CX9T328|\n",
            "|Rolls-Royce|Cullinan Black Ba...|        6.7|2022|        6612510.0|            False| RO|2023-01-11 15:29:10|   Ciano claro|JF1L924|\n",
            "|Rolls-Royce|Cullinan Black Ba...|        6.7|2021|        6056916.0|            False| PE|2023-01-20 02:54:02|         Oliva|L0DK1SV|\n",
            "|Rolls-Royce|Phantom 6.7 V12 Aut.|        6.7|2019|        5997983.0|            False| AM|2021-01-09 10:37:34|    Rosa claro|T3ZAKCO|\n",
            "|    Ferrari|F8 Spider 3.9 V8 ...|        3.9|2020|        4429998.0|            False| PR|2022-11-17 04:50:15|Azul aço claro|9M547YQ|\n",
            "|    Ferrari|F8 Spider 3.9 V8 ...|        3.9|2020|        4423353.0|            False| SC|2021-12-28 13:13:47|       Amêndoa|LOQENN5|\n",
            "|    Ferrari|488 Pista Spider ...|        3.9|2020|        4117401.0|            False| TO|2023-03-08 23:54:21|         Creme|5JWX28E|\n",
            "|    Ferrari|GTC4 LUSSO 6.3 V1...|        6.3|2019|        4092920.0|            False| MS|2020-12-07 14:45:24|      Turquesa|CIO2HVV|\n",
            "|    Mclaren|720S Coupe 4.0 Bi...|        4.0|2021|        4004239.0|            False| GO|2022-10-23 08:01:11|        Urucum|VUBKOZB|\n",
            "|    Mclaren|720S Coupe 4.0 Bi...|        4.0|2021|        3998232.0|            False| RO|2022-01-20 17:17:03|       Magenta|ANCX5ZT|\n",
            "|    Mclaren|720S Coupe 4.0 Bi...|        4.0|2021|        3979438.0|            False| PE|2022-05-18 22:50:52|Orquídea média|GZ8ICV6|\n",
            "|Rolls-Royce|   Dawn 6.6 V12 Aut.|        6.6|2019|        3828628.0|            False| TO|2021-11-19 12:28:16|          Maná|P8SZD3W|\n",
            "|Rolls-Royce|   Dawn 6.6 V12 Aut.|        6.6|2019|        3820208.0|            False| MG|2020-12-26 10:38:15|     Esmeralda|20TH93D|\n",
            "|Rolls-Royce|   Dawn 6.6 V12 Aut.|        6.6|2019|        3811461.0|            False| SP|2021-06-15 18:05:49|   Cinza fosco|VDS6O7E|\n",
            "|    Ferrari|GTC4 LUSSO 6.3 V1...|        6.3|2019|        3719481.0|            False| BA|2022-04-05 17:03:39|   Azul areado|2YTTJ8V|\n",
            "|Rolls-Royce|Phantom 6.7 V12 Aut.|        6.7|2016|        3620807.0|            False| TO|2018-02-05 16:49:47|         Cinza|R9DSX3X|\n",
            "|    Porsche|911 GT2 RS 3.8 V6...|        3.8|2018|        3571135.0|            False| AM|2022-04-27 14:01:06|       Jasmine|MC5YFJ4|\n",
            "|    Ferrari|488 Spider 3.9 V8...|        3.9|2019|        3566666.0|            False| SC|2021-08-01 03:03:56|Verde floresta|DWERFG6|\n",
            "|Rolls-Royce|Phantom 6.7 V12 Aut.|        6.7|2016|        3563563.0|            False| GO|2017-08-05 06:34:24|        Rútilo|S8PR5IS|\n",
            "|    Mclaren|720S Coupe 4.0 Bi...|        4.0|2020|        3556110.0|            False| RS|2023-02-20 06:57:10|         Âmbar|57QPMLE|\n",
            "+-----------+--------------------+-----------+----+-----------------+-----------------+---+-------------------+--------------+-------+\n",
            "only showing top 20 rows\n",
            "\n"
          ]
        }
      ]
    },
    {
      "cell_type": "markdown",
      "source": [
        "#### **Criando novos DF manipulando as colunas**"
      ],
      "metadata": {
        "id": "p089dir49XNC"
      }
    },
    {
      "cell_type": "code",
      "source": [
        "from pyspark.sql.functions import avg,max,min,sum,count, stddev"
      ],
      "metadata": {
        "id": "VQ1ms9d_7CXt"
      },
      "execution_count": 50,
      "outputs": []
    },
    {
      "cell_type": "code",
      "source": [
        "df_agg_marca = df.groupBy(\"marca\") \\\n",
        "          .agg(min(\"valor_tabela_fipe\").alias(\"minimo_fipe\"),\n",
        "               avg(\"valor_tabela_fipe\").alias(\"media_fipe\"),\n",
        "               max(\"valor_tabela_fipe\").alias(\"maximo_fipe\"),\n",
        "               min(\"ano\").alias(\"minimo_ano\"),\n",
        "               max(\"ano\").alias(\"maximo_ano\"),\n",
        "               count(\"*\").alias(\"qtd_carros_avaliados\"))\n",
        "\n",
        "df_agg_marca.show()"
      ],
      "metadata": {
        "colab": {
          "base_uri": "https://localhost:8080/"
        },
        "id": "LjOfiFma85z6",
        "outputId": "60a60740-b412-4956-e6cc-cab03020c1f1"
      },
      "execution_count": 59,
      "outputs": [
        {
          "output_type": "stream",
          "name": "stdout",
          "text": [
            "+-----------+-----------+------------------+-----------+----------+----------+--------------------+\n",
            "|      marca|minimo_fipe|        media_fipe|maximo_fipe|minimo_ano|maximo_ano|qtd_carros_avaliados|\n",
            "+-----------+-----------+------------------+-----------+----------+----------+--------------------+\n",
            "|      IVECO|   122296.0|167906.44444444444|   225530.0|      2019|      2022|                  18|\n",
            "|     AM Gen|   303653.0| 404746.3541666667|   499632.0|      1998|      2000|                  48|\n",
            "|Asia Motors|     9545.0| 19205.52525252525|    30215.0|      1994|      1999|                  99|\n",
            "|    Peugeot|     3062.0| 22548.58281998631|   205769.0|      1992|      2022|                2922|\n",
            "|      Lexus|    10785.0| 90296.56060606061|   896982.0|      1991|      2022|                 330|\n",
            "|     Jaguar|    35563.0|177671.93073593074|   707815.0|      1994|      2021|                 462|\n",
            "|        TAC|    76308.0| 94053.63157894737|   112741.0|      2010|      2019|                  19|\n",
            "|     Saturn|    10623.0|11501.692307692309|    12003.0|      1991|      1992|                  13|\n",
            "|   Maserati|    19501.0|300025.57272727275|  1890000.0|      1992|      2019|                 330|\n",
            "|      Rover|    11862.0|           14482.0|    21092.0|      1992|      1995|                  19|\n",
            "|     Engesa|    23275.0|34890.659420289856|    45712.0|      1985|      1994|                 138|\n",
            "|Rolls-Royce|  1354027.0|3143156.6666666665|  6612510.0|      2011|      2022|                  33|\n",
            "|       Jeep|     8122.0| 72928.80230642504|   430020.0|      1992|      2021|                 607|\n",
            "| Kia Motors|     4155.0|32681.904347826086|   351409.0|      1993|      2020|                1495|\n",
            "| Mitsubishi|     5541.0|49224.666037023046|   367451.0|      1991|      2022|                2647|\n",
            "|     JINBEI|    24699.0|32061.024096385543|    48708.0|      2008|      2016|                  83|\n",
            "|    Mclaren|  1577604.0|2675326.4615384615|  4004239.0|      2017|      2021|                  13|\n",
            "|      Volvo|     5671.0| 43193.94545454546|   432070.0|      1991|      2021|                1485|\n",
            "|        RAM|   199740.0|324307.06666666665|   516056.0|      2012|      2021|                  15|\n",
            "|     Envemo|    14167.0|25069.935483870966|    38083.0|      1990|      1996|                 124|\n",
            "+-----------+-----------+------------------+-----------+----------+----------+--------------------+\n",
            "only showing top 20 rows\n",
            "\n"
          ]
        }
      ]
    },
    {
      "cell_type": "code",
      "source": [
        "# salvando o dataframe gerado\n",
        "df_agg_marca.write.parquet(\"/content/df_agg_marca\")"
      ],
      "metadata": {
        "id": "Ss6p1SwS-sy5"
      },
      "execution_count": 60,
      "outputs": []
    },
    {
      "cell_type": "code",
      "source": [
        "# lendo o dataframe para utilizar o spark SQL para pesquisas\n",
        "df_00 = spark.read.parquet(\"/content/df_agg_marca\")"
      ],
      "metadata": {
        "id": "XyXT_cNQ_2Qc"
      },
      "execution_count": 61,
      "outputs": []
    },
    {
      "cell_type": "markdown",
      "source": [
        "### **Spark SQL**"
      ],
      "metadata": {
        "id": "I-_GibkrCk4L"
      }
    },
    {
      "cell_type": "code",
      "source": [
        "# criando uma view temporária em memória para criar consultas em linguagem SQL\n",
        "df_00.createOrReplaceTempView(\"df_00\")"
      ],
      "metadata": {
        "id": "5vQQOi6jACYb"
      },
      "execution_count": 68,
      "outputs": []
    },
    {
      "cell_type": "code",
      "source": [
        "# verificando o dataframe\n",
        "spark.sql(\"\"\"\n",
        "SELECT *\n",
        "FROM df_00\n",
        "\"\"\").show()"
      ],
      "metadata": {
        "colab": {
          "base_uri": "https://localhost:8080/"
        },
        "id": "oVMS77LmAKsj",
        "outputId": "4a758a34-5a0e-4017-c739-3f4e05c739f2"
      },
      "execution_count": 63,
      "outputs": [
        {
          "output_type": "stream",
          "name": "stdout",
          "text": [
            "+-----------+-----------+------------------+-----------+----------+----------+--------------------+\n",
            "|      marca|minimo_fipe|        media_fipe|maximo_fipe|minimo_ano|maximo_ano|qtd_carros_avaliados|\n",
            "+-----------+-----------+------------------+-----------+----------+----------+--------------------+\n",
            "|      IVECO|   122296.0|167906.44444444444|   225530.0|      2019|      2022|                  18|\n",
            "|     AM Gen|   303653.0| 404746.3541666667|   499632.0|      1998|      2000|                  48|\n",
            "|Asia Motors|     9545.0| 19205.52525252525|    30215.0|      1994|      1999|                  99|\n",
            "|    Peugeot|     3062.0| 22548.58281998631|   205769.0|      1992|      2022|                2922|\n",
            "|      Lexus|    10785.0| 90296.56060606061|   896982.0|      1991|      2022|                 330|\n",
            "|     Jaguar|    35563.0|177671.93073593074|   707815.0|      1994|      2021|                 462|\n",
            "|        TAC|    76308.0| 94053.63157894737|   112741.0|      2010|      2019|                  19|\n",
            "|     Saturn|    10623.0|11501.692307692309|    12003.0|      1991|      1992|                  13|\n",
            "|   Maserati|    19501.0|300025.57272727275|  1890000.0|      1992|      2019|                 330|\n",
            "|      Rover|    11862.0|           14482.0|    21092.0|      1992|      1995|                  19|\n",
            "|     Engesa|    23275.0|34890.659420289856|    45712.0|      1985|      1994|                 138|\n",
            "|Rolls-Royce|  1354027.0|3143156.6666666665|  6612510.0|      2011|      2022|                  33|\n",
            "|       Jeep|     8122.0| 72928.80230642504|   430020.0|      1992|      2021|                 607|\n",
            "| Kia Motors|     4155.0|32681.904347826086|   351409.0|      1993|      2020|                1495|\n",
            "| Mitsubishi|     5541.0|49224.666037023046|   367451.0|      1991|      2022|                2647|\n",
            "|     JINBEI|    24699.0|32061.024096385543|    48708.0|      2008|      2016|                  83|\n",
            "|    Mclaren|  1577604.0|2675326.4615384615|  4004239.0|      2017|      2021|                  13|\n",
            "|      Volvo|     5671.0| 43193.94545454546|   432070.0|      1991|      2021|                1485|\n",
            "|        RAM|   199740.0|324307.06666666665|   516056.0|      2012|      2021|                  15|\n",
            "|     Envemo|    14167.0|25069.935483870966|    38083.0|      1990|      1996|                 124|\n",
            "+-----------+-----------+------------------+-----------+----------+----------+--------------------+\n",
            "only showing top 20 rows\n",
            "\n"
          ]
        }
      ]
    },
    {
      "cell_type": "code",
      "source": [
        "# verificando quais marcas tem a fipe mínima acima de 1M\n",
        "spark.sql(\"\"\"\n",
        "SELECT *\n",
        "FROM df_00\n",
        "WHERE minimo_fipe > 1000000\n",
        "\"\"\").show()"
      ],
      "metadata": {
        "colab": {
          "base_uri": "https://localhost:8080/"
        },
        "id": "q2zBrnsIAUPr",
        "outputId": "f2e56ac4-0394-4f37-c91a-0e7847a68b6e"
      },
      "execution_count": 66,
      "outputs": [
        {
          "output_type": "stream",
          "name": "stdout",
          "text": [
            "+-----------+-----------+------------------+-----------+----------+----------+--------------------+\n",
            "|      marca|minimo_fipe|        media_fipe|maximo_fipe|minimo_ano|maximo_ano|qtd_carros_avaliados|\n",
            "+-----------+-----------+------------------+-----------+----------+----------+--------------------+\n",
            "|Rolls-Royce|  1354027.0|3143156.6666666665|  6612510.0|      2011|      2022|                  33|\n",
            "|    Mclaren|  1577604.0|2675326.4615384615|  4004239.0|      2017|      2021|                  13|\n",
            "+-----------+-----------+------------------+-----------+----------+----------+--------------------+\n",
            "\n"
          ]
        }
      ]
    },
    {
      "cell_type": "code",
      "source": [
        "# verificando o valor mínimo da Ferrari\n",
        "spark.sql(\"\"\"\n",
        "SELECT *\n",
        "FROM df_00\n",
        "WHERE marca == 'Ferrari'\n",
        "\"\"\").show()"
      ],
      "metadata": {
        "colab": {
          "base_uri": "https://localhost:8080/"
        },
        "id": "j1UzY5oTAoCJ",
        "outputId": "8304d09d-494d-4aac-d223-42b3e74aded4"
      },
      "execution_count": 67,
      "outputs": [
        {
          "output_type": "stream",
          "name": "stdout",
          "text": [
            "+-------+-----------+-----------------+-----------+----------+----------+--------------------+\n",
            "|  marca|minimo_fipe|       media_fipe|maximo_fipe|minimo_ano|maximo_ano|qtd_carros_avaliados|\n",
            "+-------+-----------+-----------------+-----------+----------+----------+--------------------+\n",
            "|Ferrari|   122439.0|1430347.569105691|  8033191.0|      1993|      2022|                 123|\n",
            "+-------+-----------+-----------------+-----------+----------+----------+--------------------+\n",
            "\n"
          ]
        }
      ]
    },
    {
      "cell_type": "markdown",
      "source": [
        "Apesar de ter o carro mais caro, a Ferrari possui o valor mínimo de pouco mais de $ 100.000,00"
      ],
      "metadata": {
        "id": "c2st3yxNA8BL"
      }
    },
    {
      "cell_type": "markdown",
      "source": [
        "#### Utilizando Spark SQL para manipular a tabela base e criar novas colunas"
      ],
      "metadata": {
        "id": "yNfYcgqWCpmD"
      }
    },
    {
      "cell_type": "code",
      "source": [
        "df_base = spark.read.parquet(\"/content/dados_veiculos_sample\")"
      ],
      "metadata": {
        "id": "jTDHTKcBA5iO"
      },
      "execution_count": 69,
      "outputs": []
    },
    {
      "cell_type": "code",
      "source": [
        "df_base.show()"
      ],
      "metadata": {
        "colab": {
          "base_uri": "https://localhost:8080/"
        },
        "id": "55hyhKcuC1Nr",
        "outputId": "0a049d85-34f9-433b-d6be-0c1bc38b4cc7"
      },
      "execution_count": 70,
      "outputs": [
        {
          "output_type": "stream",
          "name": "stdout",
          "text": [
            "+------+--------------------+-----------+----+-----------------+-----------------+---+-------------------+--------------------+-------+-----------------+\n",
            "| marca|              modelo|engine_size| ano|valor_tabela_fipe|flag_veiculo_novo| uf|      data_cadastro|                 cor|  placa|__index_level_0__|\n",
            "+------+--------------------+-----------+----+-----------------+-----------------+---+-------------------+--------------------+-------+-----------------+\n",
            "| Acura|             NSX 3.0|        3.0|1995|          43779.0|            False| MT|2005-09-02 14:40:54|      Orquídea média|4RR2KR0|                0|\n",
            "| Acura|             NSX 3.0|        3.0|1994|          42244.0|            False| MT|1998-11-01 11:58:46|            Azul aço|5C6NIZ1|                1|\n",
            "| Acura|             NSX 3.0|        3.0|1992|          39028.0|            False| AP|2014-07-03 20:32:21|            Ametista|3PRJCPK|                3|\n",
            "| Acura|      Legend 3.2/3.5|        3.2|1998|          27132.0|            False| AP|2018-01-07 20:03:26|            Caramelo|2FXXZ1W|                5|\n",
            "| Acura|      Legend 3.2/3.5|        3.2|1995|          20393.0|            False| MT|2016-03-16 18:24:33| Lavanda avermelhada|2PTOYFY|                8|\n",
            "| Acura|      Legend 3.2/3.5|        3.2|1993|          15156.0|            False| PA|2021-02-24 09:12:55|         Cinza médio|91M9ITK|               10|\n",
            "| Acura|      Legend 3.2/3.5|        3.2|1992|          14440.0|            False| MA|1999-09-29 15:15:47|  Azul ardósia claro|CUB4FG8|               11|\n",
            "| Acura|      Integra GS 1.8|        1.8|1991|          10785.0|            False| RR|2007-08-24 18:07:24|    Marrom amarelado|RVMZ6AR|               14|\n",
            "|Agrale|MARRUÁ AM 50 2.8 ...|        2.8|2010|          64744.0|            False| CE|2022-08-09 02:19:54|     Verde primavera|0IY5RU3|               20|\n",
            "|Agrale|MARRUÁ AM 50 2.8 ...|        2.8|2008|          55772.0|            False| SP|2014-01-27 17:42:24|              Urucum|AVIM91O|               22|\n",
            "|Agrale|MARRUÁ AM 100 2.8...|        2.8|2015|         109335.0|            False| GO|2017-01-17 11:51:47|  Verde fluorescente|6014MZB|               23|\n",
            "|Agrale|MARRUÁ AM 100 2.8...|        2.8|2014|         105149.0|            False| MT|2016-06-08 04:18:38|           Chocolate|6WKD8TD|               24|\n",
            "|Agrale|MARRUÁ AM 100 2.8...|        2.8|2010|          52934.0|            False| AP|2022-02-19 10:44:44|                Ocre|PQZB1OD|               28|\n",
            "|Agrale|MARRUÁ AM 100 2.8...|        2.8|2012|         111158.0|            False| AC|2021-07-28 20:42:19|                Azul|2PD806F|               34|\n",
            "|Agrale|MARRUÁ AM 100 2.8...|        2.8|2011|          86443.0|            False| AP|2012-02-02 00:03:09|              Brasil|U6NWAUI|               35|\n",
            "|Agrale|MARRUÁ AM 100 2.8...|        2.8|2007|          52088.0|            False| DF|2018-08-21 18:17:07|               Naval|HUAMUK3|               39|\n",
            "|Agrale|MARRUÁ AM 150 2.8...|        2.8|2015|         111368.0|            False| RR|2017-08-02 19:33:42|                Maná|OO92X3P|               40|\n",
            "|Agrale|MARRUÁ AM 150 2.8...|        2.8|2010|          72093.0|            False| RS|2017-08-30 19:58:28|Azul turquesa bri...|W963DA9|               53|\n",
            "|Agrale|MARRUÁ AM 200 2.8...|        2.8|2019|         232367.0|            False| PI|2022-06-03 09:10:14|       Verde militar|9KTQR31|               60|\n",
            "|Agrale|MARRUÁ AM 200 2.8...|        2.8|2014|         109529.0|            False| AM|2016-11-27 13:51:15|         Azul areado|YVJ711F|               65|\n",
            "+------+--------------------+-----------+----+-----------------+-----------------+---+-------------------+--------------------+-------+-----------------+\n",
            "only showing top 20 rows\n",
            "\n"
          ]
        }
      ]
    },
    {
      "cell_type": "code",
      "source": [
        "# removendo a coluna que não agrega\n",
        "df_base = df_base.drop('__index_level_0__')\n",
        "df_base.show()"
      ],
      "metadata": {
        "colab": {
          "base_uri": "https://localhost:8080/"
        },
        "id": "_c2-cO4HC2LD",
        "outputId": "84c096d2-297a-4ab8-bae1-cd90c30b2d0b"
      },
      "execution_count": 74,
      "outputs": [
        {
          "output_type": "stream",
          "name": "stdout",
          "text": [
            "+------+--------------------+-----------+----+-----------------+-----------------+---+-------------------+--------------------+-------+\n",
            "| marca|              modelo|engine_size| ano|valor_tabela_fipe|flag_veiculo_novo| uf|      data_cadastro|                 cor|  placa|\n",
            "+------+--------------------+-----------+----+-----------------+-----------------+---+-------------------+--------------------+-------+\n",
            "| Acura|             NSX 3.0|        3.0|1995|          43779.0|            False| MT|2005-09-02 14:40:54|      Orquídea média|4RR2KR0|\n",
            "| Acura|             NSX 3.0|        3.0|1994|          42244.0|            False| MT|1998-11-01 11:58:46|            Azul aço|5C6NIZ1|\n",
            "| Acura|             NSX 3.0|        3.0|1992|          39028.0|            False| AP|2014-07-03 20:32:21|            Ametista|3PRJCPK|\n",
            "| Acura|      Legend 3.2/3.5|        3.2|1998|          27132.0|            False| AP|2018-01-07 20:03:26|            Caramelo|2FXXZ1W|\n",
            "| Acura|      Legend 3.2/3.5|        3.2|1995|          20393.0|            False| MT|2016-03-16 18:24:33| Lavanda avermelhada|2PTOYFY|\n",
            "| Acura|      Legend 3.2/3.5|        3.2|1993|          15156.0|            False| PA|2021-02-24 09:12:55|         Cinza médio|91M9ITK|\n",
            "| Acura|      Legend 3.2/3.5|        3.2|1992|          14440.0|            False| MA|1999-09-29 15:15:47|  Azul ardósia claro|CUB4FG8|\n",
            "| Acura|      Integra GS 1.8|        1.8|1991|          10785.0|            False| RR|2007-08-24 18:07:24|    Marrom amarelado|RVMZ6AR|\n",
            "|Agrale|MARRUÁ AM 50 2.8 ...|        2.8|2010|          64744.0|            False| CE|2022-08-09 02:19:54|     Verde primavera|0IY5RU3|\n",
            "|Agrale|MARRUÁ AM 50 2.8 ...|        2.8|2008|          55772.0|            False| SP|2014-01-27 17:42:24|              Urucum|AVIM91O|\n",
            "|Agrale|MARRUÁ AM 100 2.8...|        2.8|2015|         109335.0|            False| GO|2017-01-17 11:51:47|  Verde fluorescente|6014MZB|\n",
            "|Agrale|MARRUÁ AM 100 2.8...|        2.8|2014|         105149.0|            False| MT|2016-06-08 04:18:38|           Chocolate|6WKD8TD|\n",
            "|Agrale|MARRUÁ AM 100 2.8...|        2.8|2010|          52934.0|            False| AP|2022-02-19 10:44:44|                Ocre|PQZB1OD|\n",
            "|Agrale|MARRUÁ AM 100 2.8...|        2.8|2012|         111158.0|            False| AC|2021-07-28 20:42:19|                Azul|2PD806F|\n",
            "|Agrale|MARRUÁ AM 100 2.8...|        2.8|2011|          86443.0|            False| AP|2012-02-02 00:03:09|              Brasil|U6NWAUI|\n",
            "|Agrale|MARRUÁ AM 100 2.8...|        2.8|2007|          52088.0|            False| DF|2018-08-21 18:17:07|               Naval|HUAMUK3|\n",
            "|Agrale|MARRUÁ AM 150 2.8...|        2.8|2015|         111368.0|            False| RR|2017-08-02 19:33:42|                Maná|OO92X3P|\n",
            "|Agrale|MARRUÁ AM 150 2.8...|        2.8|2010|          72093.0|            False| RS|2017-08-30 19:58:28|Azul turquesa bri...|W963DA9|\n",
            "|Agrale|MARRUÁ AM 200 2.8...|        2.8|2019|         232367.0|            False| PI|2022-06-03 09:10:14|       Verde militar|9KTQR31|\n",
            "|Agrale|MARRUÁ AM 200 2.8...|        2.8|2014|         109529.0|            False| AM|2016-11-27 13:51:15|         Azul areado|YVJ711F|\n",
            "+------+--------------------+-----------+----+-----------------+-----------------+---+-------------------+--------------------+-------+\n",
            "only showing top 20 rows\n",
            "\n"
          ]
        }
      ]
    },
    {
      "cell_type": "code",
      "source": [
        "# criando a view para editar via spark sql\n",
        "df_base.createOrReplaceTempView(\"df_base\")"
      ],
      "metadata": {
        "id": "RGgHUZhIC9-X"
      },
      "execution_count": 73,
      "outputs": []
    },
    {
      "cell_type": "markdown",
      "source": [
        "Criando os valores mínimos, máximos e média da tabela fipe por marca"
      ],
      "metadata": {
        "id": "yhloGVe7DKzk"
      }
    },
    {
      "cell_type": "code",
      "source": [
        "spark.sql(\"\"\"\n",
        "SELECT marca,\n",
        "       ROUND(MIN(valor_tabela_fipe), 2) AS minimo_fipe,\n",
        "       ROUND(MAX(valor_tabela_fipe), 2) AS maximo_fipe,\n",
        "       ROUND(AVG(valor_tabela_fipe), 2) AS media_fipe\n",
        "FROM df_base\n",
        "GROUP BY marca\n",
        "ORDER BY media_fipe DESC\n",
        "\"\"\").show()"
      ],
      "metadata": {
        "colab": {
          "base_uri": "https://localhost:8080/"
        },
        "id": "BU6MquURDA8U",
        "outputId": "e164a17b-09a9-4c58-a78d-b3e4a8c6df53"
      },
      "execution_count": 76,
      "outputs": [
        {
          "output_type": "stream",
          "name": "stdout",
          "text": [
            "+-------------+-----------+-----------+----------+\n",
            "|        marca|minimo_fipe|maximo_fipe|media_fipe|\n",
            "+-------------+-----------+-----------+----------+\n",
            "|  Rolls-Royce|  1354027.0|  6612510.0|3143156.67|\n",
            "|      Mclaren|  1577604.0|  4004239.0|2675326.46|\n",
            "|      Ferrari|   122439.0|  8033191.0|1430347.57|\n",
            "| ASTON MARTIN|   456992.0|  1952999.0| 792051.68|\n",
            "|       AM Gen|   303653.0|   499632.0| 404746.35|\n",
            "|      Porsche|    41580.0|  3571135.0| 391692.62|\n",
            "|          RAM|   199740.0|   516056.0| 324307.07|\n",
            "|     Maserati|    19501.0|  1890000.0| 300025.57|\n",
            "|   CAB Motors|   208627.0|   208627.0|  208627.0|\n",
            "|       Jaguar|    35563.0|   707815.0| 177671.93|\n",
            "|        IVECO|   122296.0|   225530.0| 167906.44|\n",
            "|   Land Rover|    14848.0|  1405166.0| 139020.71|\n",
            "|Mercedes-Benz|     9484.0|  2009249.0| 134366.17|\n",
            "|          BMW|    10941.0|  1270339.0| 111682.06|\n",
            "|       LOBINI|    90531.0|   142521.0| 107202.57|\n",
            "|         MINI|    41616.0|   277963.0| 101148.01|\n",
            "|          TAC|    76308.0|   112741.0|  94053.63|\n",
            "|       Agrale|    38941.0|   395125.0|  93694.91|\n",
            "|        Lexus|    10785.0|   896982.0|  90296.56|\n",
            "|         Audi|    11340.0|  1701120.0|  77805.64|\n",
            "+-------------+-----------+-----------+----------+\n",
            "only showing top 20 rows\n",
            "\n"
          ]
        }
      ]
    },
    {
      "cell_type": "markdown",
      "source": [
        "Verificando a quantidade de veículos e a soma do preço desses veiculos por estado"
      ],
      "metadata": {
        "id": "EWYgugeuD4vE"
      }
    },
    {
      "cell_type": "code",
      "source": [
        "spark.sql(\"\"\"\n",
        "SELECT uf, COUNT(*) AS qtd_veiculos, SUM(valor_tabela_fipe) AS total_valor_veiculos\n",
        "FROM df_base\n",
        "GROUP BY uf\n",
        "ORDER BY qtd_veiculos DESC\n",
        "\"\"\").show()"
      ],
      "metadata": {
        "colab": {
          "base_uri": "https://localhost:8080/"
        },
        "id": "8eLmsF56DxRS",
        "outputId": "1ecad226-7d37-4798-827d-deb69da1e054"
      },
      "execution_count": 81,
      "outputs": [
        {
          "output_type": "stream",
          "name": "stdout",
          "text": [
            "+---+------------+--------------------+\n",
            "| uf|qtd_veiculos|total_valor_veiculos|\n",
            "+---+------------+--------------------+\n",
            "| CE|        5559|        2.83449348E8|\n",
            "| GO|        2905|        1.71870361E8|\n",
            "| MG|        2902|        1.62613317E8|\n",
            "| PA|        2897|        1.60733342E8|\n",
            "| PB|        2878|        1.61607916E8|\n",
            "| PI|        2852|        1.52668935E8|\n",
            "| AM|        2850|        1.68644352E8|\n",
            "| MT|        2844|        1.57133397E8|\n",
            "| MA|        2830|        1.49565143E8|\n",
            "| PR|        2820|        1.52884779E8|\n",
            "| ES|        2810|        1.57075888E8|\n",
            "| AC|        2800|        1.56205348E8|\n",
            "| RS|        2797|        1.63858961E8|\n",
            "| AL|        2792|        1.57805047E8|\n",
            "| RR|        2788|        1.53997902E8|\n",
            "| MS|        2781|        1.48390567E8|\n",
            "| DF|        2779|        1.52593281E8|\n",
            "| BA|        2765|        1.60997523E8|\n",
            "| AP|        2756|        1.45238793E8|\n",
            "| SP|        2744|         1.4697298E8|\n",
            "+---+------------+--------------------+\n",
            "only showing top 20 rows\n",
            "\n"
          ]
        }
      ]
    },
    {
      "cell_type": "markdown",
      "source": [
        "Verificando a quantidade de cadastros por ano"
      ],
      "metadata": {
        "id": "d2ZQCqdVEj40"
      }
    },
    {
      "cell_type": "code",
      "source": [
        "from pyspark.sql.functions import year, month, dayofmonth, hour"
      ],
      "metadata": {
        "id": "pVdVx3dnFCwM"
      },
      "execution_count": 83,
      "outputs": []
    },
    {
      "cell_type": "code",
      "source": [
        "spark.sql(\"\"\"\n",
        "SELECT YEAR(data_cadastro) AS ano_cadastro, COUNT(*) AS qtd_cadastros\n",
        "FROM df_base\n",
        "GROUP BY ano_cadastro\n",
        "ORDER BY ano_cadastro DESC\n",
        "\"\"\").show()"
      ],
      "metadata": {
        "colab": {
          "base_uri": "https://localhost:8080/"
        },
        "id": "6epNmZ7yEBOu",
        "outputId": "d17cf26a-2a38-4e32-d259-b423e97b2633"
      },
      "execution_count": 84,
      "outputs": [
        {
          "output_type": "stream",
          "name": "stdout",
          "text": [
            "+------------+-------------+\n",
            "|ano_cadastro|qtd_cadastros|\n",
            "+------------+-------------+\n",
            "|        2023|         1178|\n",
            "|        2022|         5092|\n",
            "|        2021|         4855|\n",
            "|        2020|         4754|\n",
            "|        2019|         4511|\n",
            "|        2018|         4183|\n",
            "|        2017|         4090|\n",
            "|        2016|         3956|\n",
            "|        2015|         3560|\n",
            "|        2014|         3271|\n",
            "|        2013|         3229|\n",
            "|        2012|         2992|\n",
            "|        2011|         2854|\n",
            "|        2010|         2555|\n",
            "|        2009|         2386|\n",
            "|        2008|         2262|\n",
            "|        2007|         2123|\n",
            "|        2006|         1836|\n",
            "|        2005|         1801|\n",
            "|        2004|         1646|\n",
            "+------------+-------------+\n",
            "only showing top 20 rows\n",
            "\n"
          ]
        }
      ]
    },
    {
      "cell_type": "markdown",
      "source": [
        "Verificando quais carros são novos e quais são mais antigos seguindo os seguintes parâmetros:\n",
        "\n",
        "ano >= 2015 = Novo\n",
        "\n",
        "Ano < 2015 = Antigo"
      ],
      "metadata": {
        "id": "ZQ4KGmqLFNbk"
      }
    },
    {
      "cell_type": "code",
      "source": [
        "spark.sql(\"\"\"\n",
        "SELECT\n",
        "  *,\n",
        "  CASE\n",
        "    WHEN YEAR(data_cadastro) >= 2015 THEN 'novo'\n",
        "    ELSE 'antigo'\n",
        "  END AS categoria_carro\n",
        "FROM df_base\n",
        "\"\"\").show()"
      ],
      "metadata": {
        "colab": {
          "base_uri": "https://localhost:8080/"
        },
        "id": "W4m9pLIfEsX8",
        "outputId": "a87673cb-175b-4be3-975b-762dce0127f2"
      },
      "execution_count": 87,
      "outputs": [
        {
          "output_type": "stream",
          "name": "stdout",
          "text": [
            "+------+--------------------+-----------+----+-----------------+-----------------+---+-------------------+--------------------+-------+---------------+\n",
            "| marca|              modelo|engine_size| ano|valor_tabela_fipe|flag_veiculo_novo| uf|      data_cadastro|                 cor|  placa|categoria_carro|\n",
            "+------+--------------------+-----------+----+-----------------+-----------------+---+-------------------+--------------------+-------+---------------+\n",
            "| Acura|             NSX 3.0|        3.0|1995|          43779.0|            False| MT|2005-09-02 14:40:54|      Orquídea média|4RR2KR0|         antigo|\n",
            "| Acura|             NSX 3.0|        3.0|1994|          42244.0|            False| MT|1998-11-01 11:58:46|            Azul aço|5C6NIZ1|         antigo|\n",
            "| Acura|             NSX 3.0|        3.0|1992|          39028.0|            False| AP|2014-07-03 20:32:21|            Ametista|3PRJCPK|         antigo|\n",
            "| Acura|      Legend 3.2/3.5|        3.2|1998|          27132.0|            False| AP|2018-01-07 20:03:26|            Caramelo|2FXXZ1W|           novo|\n",
            "| Acura|      Legend 3.2/3.5|        3.2|1995|          20393.0|            False| MT|2016-03-16 18:24:33| Lavanda avermelhada|2PTOYFY|           novo|\n",
            "| Acura|      Legend 3.2/3.5|        3.2|1993|          15156.0|            False| PA|2021-02-24 09:12:55|         Cinza médio|91M9ITK|           novo|\n",
            "| Acura|      Legend 3.2/3.5|        3.2|1992|          14440.0|            False| MA|1999-09-29 15:15:47|  Azul ardósia claro|CUB4FG8|         antigo|\n",
            "| Acura|      Integra GS 1.8|        1.8|1991|          10785.0|            False| RR|2007-08-24 18:07:24|    Marrom amarelado|RVMZ6AR|         antigo|\n",
            "|Agrale|MARRUÁ AM 50 2.8 ...|        2.8|2010|          64744.0|            False| CE|2022-08-09 02:19:54|     Verde primavera|0IY5RU3|           novo|\n",
            "|Agrale|MARRUÁ AM 50 2.8 ...|        2.8|2008|          55772.0|            False| SP|2014-01-27 17:42:24|              Urucum|AVIM91O|         antigo|\n",
            "|Agrale|MARRUÁ AM 100 2.8...|        2.8|2015|         109335.0|            False| GO|2017-01-17 11:51:47|  Verde fluorescente|6014MZB|           novo|\n",
            "|Agrale|MARRUÁ AM 100 2.8...|        2.8|2014|         105149.0|            False| MT|2016-06-08 04:18:38|           Chocolate|6WKD8TD|           novo|\n",
            "|Agrale|MARRUÁ AM 100 2.8...|        2.8|2010|          52934.0|            False| AP|2022-02-19 10:44:44|                Ocre|PQZB1OD|           novo|\n",
            "|Agrale|MARRUÁ AM 100 2.8...|        2.8|2012|         111158.0|            False| AC|2021-07-28 20:42:19|                Azul|2PD806F|           novo|\n",
            "|Agrale|MARRUÁ AM 100 2.8...|        2.8|2011|          86443.0|            False| AP|2012-02-02 00:03:09|              Brasil|U6NWAUI|         antigo|\n",
            "|Agrale|MARRUÁ AM 100 2.8...|        2.8|2007|          52088.0|            False| DF|2018-08-21 18:17:07|               Naval|HUAMUK3|           novo|\n",
            "|Agrale|MARRUÁ AM 150 2.8...|        2.8|2015|         111368.0|            False| RR|2017-08-02 19:33:42|                Maná|OO92X3P|           novo|\n",
            "|Agrale|MARRUÁ AM 150 2.8...|        2.8|2010|          72093.0|            False| RS|2017-08-30 19:58:28|Azul turquesa bri...|W963DA9|           novo|\n",
            "|Agrale|MARRUÁ AM 200 2.8...|        2.8|2019|         232367.0|            False| PI|2022-06-03 09:10:14|       Verde militar|9KTQR31|           novo|\n",
            "|Agrale|MARRUÁ AM 200 2.8...|        2.8|2014|         109529.0|            False| AM|2016-11-27 13:51:15|         Azul areado|YVJ711F|           novo|\n",
            "+------+--------------------+-----------+----+-----------------+-----------------+---+-------------------+--------------------+-------+---------------+\n",
            "only showing top 20 rows\n",
            "\n"
          ]
        }
      ]
    },
    {
      "cell_type": "markdown",
      "source": [
        "Verificando os 10 modelos mais caros"
      ],
      "metadata": {
        "id": "OH3XGDVlGNb1"
      }
    },
    {
      "cell_type": "code",
      "source": [
        "spark.sql(\"\"\"\n",
        "SELECT marca, modelo, valor_tabela_fipe\n",
        "FROM df_base\n",
        "ORDER BY valor_tabela_fipe DESC\n",
        "LIMIT 10\n",
        "\"\"\").show(truncate=False)"
      ],
      "metadata": {
        "colab": {
          "base_uri": "https://localhost:8080/"
        },
        "id": "8Qcmi8eKGHgN",
        "outputId": "675edfea-6534-4d9a-c70a-a63289a9a10c"
      },
      "execution_count": 90,
      "outputs": [
        {
          "output_type": "stream",
          "name": "stdout",
          "text": [
            "+-----------+--------------------------------------+-----------------+\n",
            "|marca      |modelo                                |valor_tabela_fipe|\n",
            "+-----------+--------------------------------------+-----------------+\n",
            "|Ferrari    |SF 90 SPIDER 4.0 V8 Bi-Turbo (Híbrido)|8033191.0        |\n",
            "|Rolls-Royce|Cullinan Black Badge 6.7 V12 Aut.     |6612510.0        |\n",
            "|Rolls-Royce|Cullinan Black Badge 6.7 V12 Aut.     |6056916.0        |\n",
            "|Rolls-Royce|Phantom 6.7 V12 Aut.                  |5997983.0        |\n",
            "|Ferrari    |F8 Spider 3.9 V8 Bi-Turbo 720cv       |4429998.0        |\n",
            "|Ferrari    |F8 Spider 3.9 V8 Bi-Turbo 720cv       |4423353.0        |\n",
            "|Ferrari    |488 Pista Spider 3.9 V8 720cv         |4117401.0        |\n",
            "|Ferrari    |GTC4 LUSSO 6.3 V12 690cv              |4092920.0        |\n",
            "|Mclaren    |720S Coupe 4.0 Bi-Turbo V8 2p         |4004239.0        |\n",
            "|Mclaren    |720S Coupe 4.0 Bi-Turbo V8 2p         |3998232.0        |\n",
            "+-----------+--------------------------------------+-----------------+\n",
            "\n"
          ]
        }
      ]
    },
    {
      "cell_type": "markdown",
      "source": [
        "Criando faixas de tamanho de motor e verificando a média de preço de cada uma"
      ],
      "metadata": {
        "id": "2XbIzpgLGhBW"
      }
    },
    {
      "cell_type": "code",
      "source": [
        "spark.sql(\"\"\"\n",
        "SELECT CASE\n",
        "  WHEN engine_size < 1.6 THEN 'Pequeno'\n",
        "  WHEN engine_size < 3.0 THEN 'Medio'\n",
        "  WHEN engine_size >= 3.0 THEN 'Grande'\n",
        "END AS tamanho_motor,\n",
        "AVG(valor_tabela_fipe) AS media_preco\n",
        "FROM df_base\n",
        "GROUP BY tamanho_motor\n",
        "ORDER BY media_preco DESC\n",
        "\"\"\").show(truncate=False)"
      ],
      "metadata": {
        "colab": {
          "base_uri": "https://localhost:8080/"
        },
        "id": "SbyF2MO0Gbnc",
        "outputId": "2b42e767-0811-43e1-b62d-65f101876404"
      },
      "execution_count": 94,
      "outputs": [
        {
          "output_type": "stream",
          "name": "stdout",
          "text": [
            "+-------------+------------------+\n",
            "|tamanho_motor|media_preco       |\n",
            "+-------------+------------------+\n",
            "|Grande       |126053.38773107265|\n",
            "|Medio        |35378.09391052378 |\n",
            "|Pequeno      |24824.16883116883 |\n",
            "+-------------+------------------+\n",
            "\n"
          ]
        }
      ]
    },
    {
      "cell_type": "markdown",
      "source": [
        "Verificando a quantidade de cores disponíveis em cada marca"
      ],
      "metadata": {
        "id": "oFQKwAklHhQd"
      }
    },
    {
      "cell_type": "code",
      "source": [
        "spark.sql(\"\"\"\n",
        "SELECT marca, COUNT(DISTINCT cor) AS qtd_cores\n",
        "FROM df_base\n",
        "GROUP BY marca\n",
        "ORDER BY qtd_cores DESC\n",
        "\"\"\").show(truncate=False)"
      ],
      "metadata": {
        "colab": {
          "base_uri": "https://localhost:8080/"
        },
        "id": "FNlOrqxdHN_H",
        "outputId": "996fe6c8-de59-4a31-8dc1-2fb3d0ad592e"
      },
      "execution_count": 95,
      "outputs": [
        {
          "output_type": "stream",
          "name": "stdout",
          "text": [
            "+---------------+---------+\n",
            "|marca          |qtd_cores|\n",
            "+---------------+---------+\n",
            "|Peugeot        |227      |\n",
            "|Mitsubishi     |227      |\n",
            "|Audi           |227      |\n",
            "|Mercedes-Benz  |227      |\n",
            "|Renault        |227      |\n",
            "|BMW            |227      |\n",
            "|VW - VolksWagen|227      |\n",
            "|Citroën        |227      |\n",
            "|GM - Chevrolet |227      |\n",
            "|Toyota         |227      |\n",
            "|Nissan         |227      |\n",
            "|Fiat           |227      |\n",
            "|Ford           |227      |\n",
            "|Honda          |226      |\n",
            "|Kia Motors     |226      |\n",
            "|Volvo          |226      |\n",
            "|Hyundai        |226      |\n",
            "|Subaru         |226      |\n",
            "|Land Rover     |225      |\n",
            "|Porsche        |225      |\n",
            "+---------------+---------+\n",
            "only showing top 20 rows\n",
            "\n"
          ]
        }
      ]
    },
    {
      "cell_type": "markdown",
      "source": [
        "Verificando se existem placas duplicadas neste base"
      ],
      "metadata": {
        "id": "5ofgi9HlH7ut"
      }
    },
    {
      "cell_type": "code",
      "source": [
        "spark.sql(\"\"\"\n",
        "SELECT placa, COUNT(*) AS qtd_placas\n",
        "FROM df_base\n",
        "GROUP BY placa\n",
        "HAVING COUNT(*) > 1\n",
        "\"\"\").show(truncate=False)"
      ],
      "metadata": {
        "colab": {
          "base_uri": "https://localhost:8080/"
        },
        "id": "fT0wRw2sH2TN",
        "outputId": "edc9917f-78a4-43a3-d2e7-a5dce6bd02ba"
      },
      "execution_count": 96,
      "outputs": [
        {
          "output_type": "stream",
          "name": "stdout",
          "text": [
            "+-----+----------+\n",
            "|placa|qtd_placas|\n",
            "+-----+----------+\n",
            "+-----+----------+\n",
            "\n"
          ]
        }
      ]
    },
    {
      "cell_type": "markdown",
      "source": [
        "Aparentemente não temos placas duplicadas na base, mas podemos verificar utilizando outra query"
      ],
      "metadata": {
        "id": "oLXuK7DTIHqF"
      }
    },
    {
      "cell_type": "code",
      "source": [
        "spark.sql(\"\"\"\n",
        "SELECT placa, COUNT(*) AS qtd_placas\n",
        "FROM df_base\n",
        "GROUP BY placa\n",
        "ORDER BY qtd_placas DESC\n",
        "\"\"\").show(truncate=False)"
      ],
      "metadata": {
        "colab": {
          "base_uri": "https://localhost:8080/"
        },
        "id": "5e9gi6rkIGZk",
        "outputId": "9ece53d7-c39f-4223-ff9b-6fe04b140c20"
      },
      "execution_count": 97,
      "outputs": [
        {
          "output_type": "stream",
          "name": "stdout",
          "text": [
            "+-------+----------+\n",
            "|placa  |qtd_placas|\n",
            "+-------+----------+\n",
            "|L9JW2Y7|1         |\n",
            "|PSTV5DG|1         |\n",
            "|VABZFWC|1         |\n",
            "|NX7RZYJ|1         |\n",
            "|J8O27PD|1         |\n",
            "|7O0EK7K|1         |\n",
            "|CJVUXGB|1         |\n",
            "|FI2QENN|1         |\n",
            "|K8S0FMA|1         |\n",
            "|B3OGV71|1         |\n",
            "|4B2RQ21|1         |\n",
            "|WVQ9X77|1         |\n",
            "|RGIEBMY|1         |\n",
            "|AK615GF|1         |\n",
            "|22NARQJ|1         |\n",
            "|FU6LXPU|1         |\n",
            "|Q1RB9U9|1         |\n",
            "|RPGE3RO|1         |\n",
            "|X86SAKH|1         |\n",
            "|HZSI4TW|1         |\n",
            "+-------+----------+\n",
            "only showing top 20 rows\n",
            "\n"
          ]
        }
      ]
    },
    {
      "cell_type": "markdown",
      "source": [
        "## **Conclusão**\n",
        "\n",
        "O Spark SQL é uma ferramenta prática e poderosa para explorar e transformar dados de forma eficiente.\n",
        "\n",
        "Com ele é possível aplicar filtros, agrupamentos, cálculos e classificações de maneira clara e performática, mesmo em grandes volumes de dados.\n",
        "\n",
        "É uma solução que combina a familiaridade da linguagem SQL com a escalabilidade do Spark, sendo muito útil no dia a dia de quem trabalha com dados."
      ],
      "metadata": {
        "id": "OrLgJ7cvI4KG"
      }
    }
  ]
}